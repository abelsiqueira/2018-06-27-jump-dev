{
 "cells": [
  {
   "cell_type": "code",
   "execution_count": 1,
   "metadata": {
    "slideshow": {
     "slide_type": "skip"
    }
   },
   "outputs": [
    {
     "name": "stderr",
     "output_type": "stream",
     "text": [
      "\u001b[1m\u001b[36mINFO: \u001b[39m\u001b[22m\u001b[36mRecompiling stale cache file /home/abel/.julia/lib/v0.6/LinearOperators.ji for module LinearOperators.\n",
      "\u001b[39mWARNING: using DataStructures.reset! in module CUTEst conflicts with an existing identifier.\n",
      "WARNING: using DataStructures.cons in module CUTEst conflicts with an existing identifier.\n"
     ]
    }
   ],
   "source": [
    "using CUTEst, NLPModels, Plots, LinearOperators, Krylov, OptimizationProblems, NLSProblems"
   ]
  },
  {
   "cell_type": "markdown",
   "metadata": {
    "slideshow": {
     "slide_type": "slide"
    }
   },
   "source": [
    "<h1> JuliaSmoothOptimizers <img src=\"jsologo-alpha-1000-1000.png\" style=\"width: 300px; display: inline\"/> </h1>\n",
    "\n",
    "<p>\n",
    "Abel Soares Siqueira - Federal University of Paraná, Brazil\n",
    "</p>\n",
    "<p>\n",
    "Dominique Orban - GERAD/Polytechnique Montreal, Canada\n",
    "</p>"
   ]
  },
  {
   "cell_type": "markdown",
   "metadata": {
    "slideshow": {
     "slide_type": "subslide"
    }
   },
   "source": [
    "- Tools for developers/researchers/academics\n",
    "- Used by ourselves\n",
    "- Integrates with MPB/JuMP\n",
    "- We also develop solvers, focusing on large-scale\n",
    "- Similar work has also been done in [PythonOptimizers](https://github.com/PythonOptimizers)"
   ]
  },
  {
   "cell_type": "markdown",
   "metadata": {
    "slideshow": {
     "slide_type": "fragment"
    }
   },
   "source": [
    "<img src=\"jso.png\" alt=\"Drawing\" style=\"width: 600px;\"/>"
   ]
  },
  {
   "cell_type": "markdown",
   "metadata": {
    "slideshow": {
     "slide_type": "slide"
    }
   },
   "source": [
    "# NLPModels\n",
    "\n",
    "Defines nonlinear programming types and unified API to access them."
   ]
  },
  {
   "cell_type": "code",
   "execution_count": 2,
   "metadata": {
    "slideshow": {
     "slide_type": "fragment"
    }
   },
   "outputs": [],
   "source": [
    "using NLPModels, CUTEst, JuMP\n",
    "\n",
    "# Short\n",
    "adnlp = ADNLPModel(x->(x[1] - 1)^2 + 100 * (x[2] - x[1]^2)^2, [-1.2; 1.0])\n",
    "\n",
    "# ROSENBR from the CUTEst list of problem\n",
    "ctnlp = CUTEstModel(\"ROSENBR\")\n",
    "\n",
    "# using JuMP -> sparse Hessian\n",
    "m = Model()\n",
    "@variable(m, x[1:2])\n",
    "setvalue(x, [-1.2; 1.0])\n",
    "@NLobjective(m, Min, (x[1] - 1)^2 + 100 * (x[2] - x[1]^2)^2)\n",
    "mpnlp = MathProgNLPModel(m);"
   ]
  },
  {
   "cell_type": "code",
   "execution_count": 3,
   "metadata": {
    "slideshow": {
     "slide_type": "subslide"
    }
   },
   "outputs": [
    {
     "name": "stdout",
     "output_type": "stream",
     "text": [
      "Autodiff\n",
      "fx = 24.199999999999996\n",
      "gx = [-215.6, -88.0]\n",
      "Hx = [1330.0 0.0; 480.0 200.0]\n",
      "\n",
      "CUTEst\n",
      "fx = 24.199999999999996\n",
      "gx = [-215.6, -88.0]\n",
      "Hx = \n",
      "  [1, 1]  =  1330.0\n",
      "  [2, 1]  =  480.0\n",
      "  [2, 2]  =  200.0\n",
      "\n",
      "JuMP\n",
      "fx = 24.199999999999996\n",
      "gx = [-215.6, -88.0]\n",
      "Hx = \n",
      "  [1, 1]  =  1330.0\n",
      "  [2, 1]  =  480.0\n",
      "  [2, 2]  =  200.0\n",
      "\n"
     ]
    }
   ],
   "source": [
    "# Unified API\n",
    "for (name, nlp) in [(\"Autodiff\", adnlp), (\"CUTEst\", ctnlp), (\"JuMP\", mpnlp)]\n",
    "    x = nlp.meta.x0\n",
    "    println(\"$name\")\n",
    "    println(\"fx = $(obj(nlp, x))\")\n",
    "    println(\"gx = $(grad(nlp, x))\")\n",
    "    println(\"Hx = $(hess(nlp, x))\")\n",
    "    println(\"\")\n",
    "end\n",
    "finalize(ctnlp)"
   ]
  },
  {
   "cell_type": "code",
   "execution_count": 4,
   "metadata": {
    "slideshow": {
     "slide_type": "subslide"
    }
   },
   "outputs": [
    {
     "name": "stdout",
     "output_type": "stream",
     "text": [
      "\n",
      "******************************************************************************\n",
      "This program contains Ipopt, a library for large-scale nonlinear optimization.\n",
      " Ipopt is released as open source code under the Eclipse Public License (EPL).\n",
      "         For more information visit http://projects.coin-or.org/Ipopt\n",
      "******************************************************************************\n",
      "\n",
      "#f = 45\n",
      "#g = 23\n",
      "#H = 22\n",
      "#Hp = 0\n",
      "Σf = 90\n"
     ]
    }
   ],
   "source": [
    "using Ipopt\n",
    "\n",
    "nlp = CUTEstModel(\"ROSENBR\")\n",
    "model = NLPtoMPB(nlp, IpoptSolver(print_level=0))\n",
    "MathProgBase.optimize!(model)\n",
    "finalize(nlp)\n",
    "println(\"#f = $(neval_obj(nlp))\")\n",
    "println(\"#g = $(neval_grad(nlp))\")\n",
    "println(\"#H = $(neval_hess(nlp))\")\n",
    "println(\"#Hp = $(neval_hprod(nlp))\")\n",
    "println(\"Σf = $(sum_counters(nlp))\")"
   ]
  },
  {
   "cell_type": "markdown",
   "metadata": {
    "slideshow": {
     "slide_type": "slide"
    }
   },
   "source": [
    "#### General Formulation\n",
    "\n",
    "\\begin{align*}\n",
    "  \\min & \\quad f(x) \\\\\n",
    "  \\text{s. to} & \\quad c_{\\ell} \\leq c(x) \\leq c_u \\\\\n",
    "  & \\quad \\ell \\leq x \\leq u.\n",
    "\\end{align*}"
   ]
  },
  {
   "cell_type": "code",
   "execution_count": 5,
   "metadata": {
    "slideshow": {
     "slide_type": "fragment"
    }
   },
   "outputs": [
    {
     "data": {
      "text/plain": [
       "([1], Int64[], [2], Int64[], Int64[])"
      ]
     },
     "execution_count": 5,
     "metadata": {},
     "output_type": "execute_result"
    }
   ],
   "source": [
    "nlp = ADNLPModel(x->sum(x.^4), [1.0; 2.0; 3.0; 4.0],\n",
    "                lvar=[-1; -Inf; 0; 0], uvar=[1; 0; Inf; 0],\n",
    "                c=x->[sum(x); prod(x)], lcon=[1.0; 1.0], ucon=[1.0; Inf])\n",
    "\n",
    "meta = nlp.meta\n",
    "x = meta.x0\n",
    "ℓ, u = meta.lvar, meta.uvar\n",
    "cℓ, cu = meta.lcon, meta.ucon\n",
    "vartypes = meta.ifix, meta.ifree, meta.ilow, meta.iupp, meta.irng\n",
    "contypes = meta.jfix, meta.jfree, meta.jlow, meta.jupp, meta.jrng"
   ]
  },
  {
   "cell_type": "code",
   "execution_count": 6,
   "metadata": {
    "slideshow": {
     "slide_type": "subslide"
    }
   },
   "outputs": [
    {
     "data": {
      "text/plain": [
       "2-element Array{Float64,1}:\n",
       " 10.0\n",
       " 24.0"
      ]
     },
     "execution_count": 6,
     "metadata": {},
     "output_type": "execute_result"
    }
   ],
   "source": [
    "cons(nlp, x) # c(x)"
   ]
  },
  {
   "cell_type": "code",
   "execution_count": 7,
   "metadata": {
    "slideshow": {
     "slide_type": "fragment"
    }
   },
   "outputs": [
    {
     "data": {
      "text/plain": [
       "2×4 Array{Float64,2}:\n",
       "  1.0   1.0  1.0  1.0\n",
       " 24.0  12.0  8.0  6.0"
      ]
     },
     "execution_count": 7,
     "metadata": {},
     "output_type": "execute_result"
    }
   ],
   "source": [
    "jac(nlp, x) # J(x)"
   ]
  },
  {
   "cell_type": "code",
   "execution_count": 8,
   "metadata": {
    "slideshow": {
     "slide_type": "fragment"
    }
   },
   "outputs": [
    {
     "data": {
      "text/plain": [
       "2-element Array{Float64,1}:\n",
       "  4.0\n",
       " 50.0"
      ]
     },
     "execution_count": 8,
     "metadata": {},
     "output_type": "execute_result"
    }
   ],
   "source": [
    "n, m = meta.nvar, meta.ncon\n",
    "v = ones(n)\n",
    "jprod(nlp, x, v) # J(x) * v"
   ]
  },
  {
   "cell_type": "code",
   "execution_count": 9,
   "metadata": {
    "slideshow": {
     "slide_type": "fragment"
    }
   },
   "outputs": [
    {
     "data": {
      "text/plain": [
       "4-element Array{Float64,1}:\n",
       " 25.0\n",
       " 13.0\n",
       "  9.0\n",
       "  7.0"
      ]
     },
     "execution_count": 9,
     "metadata": {},
     "output_type": "execute_result"
    }
   ],
   "source": [
    "w = ones(m)\n",
    "jtprod(nlp, x, w) # J(x)' * v"
   ]
  },
  {
   "cell_type": "markdown",
   "metadata": {
    "slideshow": {
     "slide_type": "subslide"
    }
   },
   "source": [
    "Some models handle sparsity (e.g. CUTEst and MathProgNLPModel)"
   ]
  },
  {
   "cell_type": "code",
   "execution_count": 10,
   "metadata": {
    "scrolled": true,
    "slideshow": {
     "slide_type": "fragment"
    }
   },
   "outputs": [
    {
     "data": {
      "text/plain": [
       "9×10 SparseMatrixCSC{Float64,Int64} with 18 stored entries:\n",
       "  [1 ,  1]  =  2.0\n",
       "  [1 ,  2]  =  -1.0\n",
       "  [2 ,  2]  =  2.0\n",
       "  [2 ,  3]  =  -1.0\n",
       "  [3 ,  3]  =  2.0\n",
       "  [3 ,  4]  =  -1.0\n",
       "  [4 ,  4]  =  2.0\n",
       "  [4 ,  5]  =  -1.0\n",
       "  [5 ,  5]  =  2.0\n",
       "  [5 ,  6]  =  -1.0\n",
       "  [6 ,  6]  =  2.0\n",
       "  [6 ,  7]  =  -1.0\n",
       "  [7 ,  7]  =  2.0\n",
       "  [7 ,  8]  =  -1.0\n",
       "  [8 ,  8]  =  2.0\n",
       "  [8 ,  9]  =  -1.0\n",
       "  [9 ,  9]  =  2.0\n",
       "  [9 , 10]  =  -1.0"
      ]
     },
     "execution_count": 10,
     "metadata": {},
     "output_type": "execute_result"
    }
   ],
   "source": [
    "model = Model()\n",
    "@variable(model, x[1:10], start=1.0)\n",
    "@NLobjective(model, Min, sum(x[i]^4 for i = 1:10))\n",
    "@NLconstraint(model, [i=1:9], x[i]^2 - x[i+1] == 1)\n",
    "nlp = MathProgNLPModel(model)\n",
    "\n",
    "x = nlp.meta.x0\n",
    "\n",
    "jac(nlp, x)"
   ]
  },
  {
   "cell_type": "markdown",
   "metadata": {
    "slideshow": {
     "slide_type": "slide"
    }
   },
   "source": [
    "- To create specific models, we can extend `AbstractNLPModel` and define the functions `obj`, `grad`, etc;\n",
    "- It can be useful when you know the functions expressions and want to prohibit other functions;\n",
    "- It can be used to create models on top of models, such as `SlackModel`."
   ]
  },
  {
   "cell_type": "markdown",
   "metadata": {
    "slideshow": {
     "slide_type": "fragment"
    }
   },
   "source": [
    "$$ \\begin{array}{rl}\n",
    "\\min & \\quad f(x) \\\\\n",
    "\\mbox{s. to} & \\quad c(x) \\geq 0\n",
    "\\end{array} \\qquad \\Rightarrow\n",
    "\\qquad\n",
    "\\begin{array}{rl}\n",
    "\\min & \\quad f(x) \\\\\n",
    "\\mbox{s. to} & \\quad c(x) - s = 0 \\\\\n",
    "& \\quad s \\geq 0.\n",
    "\\end{array}\n",
    "$$"
   ]
  },
  {
   "cell_type": "code",
   "execution_count": 11,
   "metadata": {
    "slideshow": {
     "slide_type": "fragment"
    }
   },
   "outputs": [
    {
     "data": {
      "text/plain": [
       "false"
      ]
     },
     "execution_count": 11,
     "metadata": {},
     "output_type": "execute_result"
    }
   ],
   "source": [
    "model = Model()\n",
    "@variable(model, x[1:2])\n",
    "@NLobjective(model, Min, x[1]^2 + x[2]^2)\n",
    "@constraint(model, x[1] + x[2] >= 1)\n",
    "nlp = MathProgNLPModel(model)\n",
    "equality_constrained(nlp)"
   ]
  },
  {
   "cell_type": "code",
   "execution_count": 12,
   "metadata": {
    "slideshow": {
     "slide_type": "fragment"
    }
   },
   "outputs": [
    {
     "data": {
      "text/plain": [
       "true"
      ]
     },
     "execution_count": 12,
     "metadata": {},
     "output_type": "execute_result"
    }
   ],
   "source": [
    "inequality_constrained(nlp)"
   ]
  },
  {
   "cell_type": "code",
   "execution_count": 13,
   "metadata": {
    "slideshow": {
     "slide_type": "subslide"
    }
   },
   "outputs": [
    {
     "data": {
      "text/plain": [
       "3"
      ]
     },
     "execution_count": 13,
     "metadata": {},
     "output_type": "execute_result"
    }
   ],
   "source": [
    "slp = SlackModel(nlp)\n",
    "slp.meta.nvar"
   ]
  },
  {
   "cell_type": "code",
   "execution_count": 14,
   "metadata": {
    "slideshow": {
     "slide_type": "fragment"
    }
   },
   "outputs": [
    {
     "data": {
      "text/plain": [
       "true"
      ]
     },
     "execution_count": 14,
     "metadata": {},
     "output_type": "execute_result"
    }
   ],
   "source": [
    "equality_constrained(slp)"
   ]
  },
  {
   "cell_type": "code",
   "execution_count": 15,
   "metadata": {
    "slideshow": {
     "slide_type": "fragment"
    }
   },
   "outputs": [
    {
     "data": {
      "text/plain": [
       "false"
      ]
     },
     "execution_count": 15,
     "metadata": {},
     "output_type": "execute_result"
    }
   ],
   "source": [
    "inequality_constrained(slp)"
   ]
  },
  {
   "cell_type": "markdown",
   "metadata": {
    "slideshow": {
     "slide_type": "slide"
    }
   },
   "source": [
    "## Nonlinear Least Squares\n",
    "\n",
    "- Residual functions to NLPModels\n",
    "- Same idea: unified API\n",
    "- Also works as $f(x) = \\sum r_i(x)^2$."
   ]
  },
  {
   "cell_type": "markdown",
   "metadata": {
    "slideshow": {
     "slide_type": "fragment"
    }
   },
   "source": [
    "### Main models\n",
    "\n",
    "- LLSModel(A, b)\n",
    "- ADNLSModel(F, x0)\n",
    "- FeasibilityResidual(nlp)\n",
    "- MathProgNLSModel(model, [expr])"
   ]
  },
  {
   "cell_type": "code",
   "execution_count": 16,
   "metadata": {
    "slideshow": {
     "slide_type": "subslide"
    }
   },
   "outputs": [
    {
     "data": {
      "text/plain": [
       "2-element Array{Float64,1}:\n",
       " -2.2 \n",
       " -0.44"
      ]
     },
     "execution_count": 16,
     "metadata": {},
     "output_type": "execute_result"
    }
   ],
   "source": [
    "model = Model()\n",
    "@variable(model, x[1:2])\n",
    "setvalue(x, [-1.2; 1.0])\n",
    "@NLexpression(model, F1, x[1] - 1)\n",
    "@NLexpression(model, F2, x[2] - x[1]^2)\n",
    "nls = MathProgNLSModel(model, [F1; F2])\n",
    "\n",
    "residual(nls, nls.meta.x0)"
   ]
  },
  {
   "cell_type": "code",
   "execution_count": 17,
   "metadata": {
    "slideshow": {
     "slide_type": "fragment"
    }
   },
   "outputs": [
    {
     "data": {
      "text/plain": [
       "2×2 SparseMatrixCSC{Float64,Int64} with 3 stored entries:\n",
       "  [1, 1]  =  1.0\n",
       "  [2, 1]  =  2.4\n",
       "  [2, 2]  =  1.0"
      ]
     },
     "execution_count": 17,
     "metadata": {},
     "output_type": "execute_result"
    }
   ],
   "source": [
    "jac_residual(nls, nls.meta.x0)"
   ]
  },
  {
   "cell_type": "markdown",
   "metadata": {
    "slideshow": {
     "slide_type": "slide"
    }
   },
   "source": [
    "## Problems Repositories\n",
    "\n",
    "- [OptimizationProblems.jl](https://github.com/JuliaSmoothOptimizers/OptimizationProblems.jl)\n",
    "  stores NLP problems in JuMP format. Some problems from CUTEst are implemented. More are welcome.\n",
    "- [NLSProblems.jl](https://github.com/JuliaSmoothOptimizers/OptimizationProblems.jl)\n",
    "  stores NLS problems. Moré-Garbow-Hillstrom and some other models are implemented. More are welcome."
   ]
  },
  {
   "cell_type": "code",
   "execution_count": 18,
   "metadata": {
    "slideshow": {
     "slide_type": "fragment"
    }
   },
   "outputs": [
    {
     "data": {
      "text/plain": [
       "1281.3263187429854"
      ]
     },
     "execution_count": 18,
     "metadata": {},
     "output_type": "execute_result"
    }
   ],
   "source": [
    "using OptimizationProblems\n",
    "\n",
    "nlp = MathProgNLPModel(dixmaanj())\n",
    "obj(nlp, nlp.meta.x0)"
   ]
  },
  {
   "cell_type": "code",
   "execution_count": 19,
   "metadata": {
    "slideshow": {
     "slide_type": "fragment"
    }
   },
   "outputs": [
    {
     "data": {
      "text/plain": [
       "2-element Array{Float64,1}:\n",
       " -4.4\n",
       "  2.2"
      ]
     },
     "execution_count": 19,
     "metadata": {},
     "output_type": "execute_result"
    }
   ],
   "source": [
    "using NLSProblems\n",
    "\n",
    "nls = mgh01()\n",
    "residual(nls, nls.meta.x0)"
   ]
  },
  {
   "cell_type": "markdown",
   "metadata": {
    "slideshow": {
     "slide_type": "slide"
    }
   },
   "source": [
    "## LinearOperators\n",
    "\n",
    "Factorization-free methods will never use the Jacobian explicitly. Instead, they use the Jacobian products `jprod` and `jtprod`.\n",
    "\n",
    "LinearOperators appear to work as matrices, but will use matrix-vector products internally."
   ]
  },
  {
   "cell_type": "code",
   "execution_count": 42,
   "metadata": {
    "slideshow": {
     "slide_type": "fragment"
    }
   },
   "outputs": [
    {
     "data": {
      "text/plain": [
       "Linear operator\n",
       "  nrow: 1\n",
       "  ncol: 2\n",
       "  eltype: Float64\n",
       "  symmetric: false\n",
       "  hermitian: false\n",
       "  prod:   #23\n",
       "  tprod:  #24\n",
       "  ctprod: #25\n"
      ]
     },
     "execution_count": 42,
     "metadata": {},
     "output_type": "execute_result"
    }
   ],
   "source": [
    "nlp = MathProgNLPModel(bt1())\n",
    "x = nlp.meta.x0\n",
    "\n",
    "T = LinearOperator{Float64}(nlp.meta.ncon, nlp.meta.nvar,\n",
    "            false, false, # Symmetric? hermitian?\n",
    "            v->jprod(nlp, x, v),  # T * v  prod(v)\n",
    "            v->jtprod(nlp, x, v), # T.' * v  tprod(v)\n",
    "            v->jtprod(nlp, x, v)) # T' * v   ctprod(v)"
   ]
  },
  {
   "cell_type": "code",
   "execution_count": 43,
   "metadata": {
    "slideshow": {
     "slide_type": "subslide"
    }
   },
   "outputs": [
    {
     "data": {
      "text/plain": [
       "1-element Array{Float64,1}:\n",
       " 0.28"
      ]
     },
     "execution_count": 43,
     "metadata": {},
     "output_type": "execute_result"
    }
   ],
   "source": [
    "T * ones(nlp.meta.nvar)"
   ]
  },
  {
   "cell_type": "code",
   "execution_count": 44,
   "metadata": {
    "slideshow": {
     "slide_type": "fragment"
    }
   },
   "outputs": [
    {
     "data": {
      "text/plain": [
       "2-element Array{Float64,1}:\n",
       " 0.16\n",
       " 0.12"
      ]
     },
     "execution_count": 44,
     "metadata": {},
     "output_type": "execute_result"
    }
   ],
   "source": [
    "T' * ones(nlp.meta.ncon)"
   ]
  },
  {
   "cell_type": "markdown",
   "metadata": {
    "slideshow": {
     "slide_type": "subslide"
    }
   },
   "source": [
    "LinearOperators are lazy."
   ]
  },
  {
   "cell_type": "code",
   "execution_count": 23,
   "metadata": {
    "slideshow": {
     "slide_type": "fragment"
    }
   },
   "outputs": [
    {
     "data": {
      "text/plain": [
       "Linear operator\n",
       "  nrow: 2\n",
       "  ncol: 2\n",
       "  eltype: Float64\n",
       "  symmetric: false\n",
       "  hermitian: false\n",
       "  prod:   LinearOperators.#28\n",
       "  tprod:  LinearOperators.#29\n",
       "  ctprod: LinearOperators.#30\n"
      ]
     },
     "execution_count": 23,
     "metadata": {},
     "output_type": "execute_result"
    }
   ],
   "source": [
    "T' * T"
   ]
  },
  {
   "cell_type": "code",
   "execution_count": 24,
   "metadata": {
    "slideshow": {
     "slide_type": "fragment"
    }
   },
   "outputs": [
    {
     "ename": "LoadError",
     "evalue": "\u001b[91mjprod not implemented\u001b[39m",
     "output_type": "error",
     "traceback": [
      "\u001b[91mjprod not implemented\u001b[39m",
      "",
      "Stacktrace:",
      " [1] \u001b[1mjprod\u001b[22m\u001b[22m\u001b[1m(\u001b[22m\u001b[22m::NLPModels.MathProgNLPModel, ::Array{JuMP.Variable,1}, ::Array{Float64,1}\u001b[1m)\u001b[22m\u001b[22m at \u001b[1m/home/abel/.julia/v0.6/NLPModels/src/NLPModels.jl:188\u001b[22m\u001b[22m",
      " [2] \u001b[1m(::##9#12)\u001b[22m\u001b[22m\u001b[1m(\u001b[22m\u001b[22m::Array{Float64,1}\u001b[1m)\u001b[22m\u001b[22m at \u001b[1m./In[20]:5\u001b[22m\u001b[22m",
      " [3] \u001b[1m*\u001b[22m\u001b[22m\u001b[1m(\u001b[22m\u001b[22m::LinearOperators.LinearOperator{Float64}, ::Array{Float64,1}\u001b[1m)\u001b[22m\u001b[22m at \u001b[1m/home/abel/.julia/v0.6/LinearOperators/src/LinearOperators.jl:199\u001b[22m\u001b[22m",
      " [4] \u001b[1m(::LinearOperators.##28#31{LinearOperators.LinearOperator{Float64},LinearOperators.LinearOperator{Float64}})\u001b[22m\u001b[22m\u001b[1m(\u001b[22m\u001b[22m::Array{Float64,1}\u001b[1m)\u001b[22m\u001b[22m at \u001b[1m/home/abel/.julia/v0.6/LinearOperators/src/LinearOperators.jl:316\u001b[22m\u001b[22m",
      " [5] \u001b[1m*\u001b[22m\u001b[22m\u001b[1m(\u001b[22m\u001b[22m::LinearOperators.LinearOperator{Float64}, ::Array{Float64,1}\u001b[1m)\u001b[22m\u001b[22m at \u001b[1m/home/abel/.julia/v0.6/LinearOperators/src/LinearOperators.jl:199\u001b[22m\u001b[22m"
     ]
    }
   ],
   "source": [
    "(T' * T) * ones(nlp.meta.nvar)"
   ]
  },
  {
   "cell_type": "markdown",
   "metadata": {
    "slideshow": {
     "slide_type": "subslide"
    }
   },
   "source": [
    "Also, they're already implemented on NLPModels"
   ]
  },
  {
   "cell_type": "code",
   "execution_count": 25,
   "metadata": {
    "scrolled": true,
    "slideshow": {
     "slide_type": "fragment"
    }
   },
   "outputs": [
    {
     "ename": "LoadError",
     "evalue": "\u001b[91mMethodError: no method matching jac_op(::NLPModels.MathProgNLPModel, ::Array{JuMP.Variable,1})\u001b[0m\nClosest candidates are:\n  jac_op(::NLPModels.AbstractNLPModel, \u001b[91m::Array{Float64,1}\u001b[39m) at /home/abel/.julia/v0.6/NLPModels/src/NLPModels.jl:219\u001b[39m",
     "output_type": "error",
     "traceback": [
      "\u001b[91mMethodError: no method matching jac_op(::NLPModels.MathProgNLPModel, ::Array{JuMP.Variable,1})\u001b[0m\nClosest candidates are:\n  jac_op(::NLPModels.AbstractNLPModel, \u001b[91m::Array{Float64,1}\u001b[39m) at /home/abel/.julia/v0.6/NLPModels/src/NLPModels.jl:219\u001b[39m",
      ""
     ]
    }
   ],
   "source": [
    "jac_op(nlp, x)"
   ]
  },
  {
   "cell_type": "code",
   "execution_count": 26,
   "metadata": {
    "slideshow": {
     "slide_type": "fragment"
    }
   },
   "outputs": [
    {
     "ename": "LoadError",
     "evalue": "\u001b[91mMethodError: no method matching hess_op(::NLPModels.MathProgNLPModel, ::Array{JuMP.Variable,1})\u001b[0m\nClosest candidates are:\n  hess_op(::NLPModels.AbstractNLPModel, \u001b[91m::Array{Float64,1}\u001b[39m; obj_weight, y) at /home/abel/.julia/v0.6/NLPModels/src/NLPModels.jl:313\u001b[39m",
     "output_type": "error",
     "traceback": [
      "\u001b[91mMethodError: no method matching hess_op(::NLPModels.MathProgNLPModel, ::Array{JuMP.Variable,1})\u001b[0m\nClosest candidates are:\n  hess_op(::NLPModels.AbstractNLPModel, \u001b[91m::Array{Float64,1}\u001b[39m; obj_weight, y) at /home/abel/.julia/v0.6/NLPModels/src/NLPModels.jl:313\u001b[39m",
      ""
     ]
    }
   ],
   "source": [
    "hess_op(nlp, x)"
   ]
  },
  {
   "cell_type": "markdown",
   "metadata": {
    "slideshow": {
     "slide_type": "slide"
    }
   },
   "source": [
    "## Krylov\n",
    "\n",
    "Krylov methods are iterative solvers for linear systems, least squares and least norm problems.\n",
    "It works with matrices and LinearOperators."
   ]
  },
  {
   "cell_type": "code",
   "execution_count": 27,
   "metadata": {
    "slideshow": {
     "slide_type": "fragment"
    }
   },
   "outputs": [
    {
     "data": {
      "text/plain": [
       "([1.0, 1.0, 1.0, 1.0, 1.0], \n",
       "Simple stats\n",
       "  solved: true\n",
       "  inconsistent: false\n",
       "  residuals:  [  1.4e+01  1.1e-01  3.6e-02  6.5e-03  1.7e-02  1.6e-09 ]\n",
       "  Aresiduals: [ ]\n",
       "  status: solution good enough given atol and rtol\n",
       ")"
      ]
     },
     "execution_count": 27,
     "metadata": {},
     "output_type": "execute_result"
    }
   ],
   "source": [
    "using Krylov\n",
    "\n",
    "A = rand(5, 5)\n",
    "A = A * A'\n",
    "b = A * ones(5)\n",
    "cg(A, b)"
   ]
  },
  {
   "cell_type": "markdown",
   "metadata": {
    "slideshow": {
     "slide_type": "subslide"
    }
   },
   "source": [
    "$$ \\min_{\\lambda} \\frac{1}{2}\\Vert \\nabla f(x) - J(x)^T\\lambda\\Vert. $$"
   ]
  },
  {
   "cell_type": "code",
   "execution_count": 28,
   "metadata": {
    "slideshow": {
     "slide_type": "fragment"
    }
   },
   "outputs": [
    {
     "data": {
      "text/plain": [
       "1-element Array{Float64,1}:\n",
       " 96.0"
      ]
     },
     "execution_count": 28,
     "metadata": {},
     "output_type": "execute_result"
    }
   ],
   "source": [
    "x = nlp.meta.x0\n",
    "g = grad(nlp, x)\n",
    "J = jac_op(nlp, x)\n",
    "λ = cgls(J', g)[1]"
   ]
  },
  {
   "cell_type": "code",
   "execution_count": 29,
   "metadata": {
    "slideshow": {
     "slide_type": "subslide"
    }
   },
   "outputs": [
    {
     "data": {
      "text/plain": [
       "4-element Array{Float64,1}:\n",
       " 0.0173415\n",
       " 0.0173415\n",
       " 0.0173415\n",
       " 0.0173415"
      ]
     },
     "execution_count": 29,
     "metadata": {},
     "output_type": "execute_result"
    }
   ],
   "source": [
    "nlp = ADNLPModel(x->sum(x.^4), ones(4))\n",
    "\n",
    "x = nlp.meta.x0\n",
    "gx = grad(nlp, x)\n",
    "while norm(gx) > 1e-4\n",
    "    Hx = hess_op(nlp, x)\n",
    "    d = cg(Hx, -gx)[1]\n",
    "    x += d\n",
    "    gx = grad(nlp, x)\n",
    "end\n",
    "x"
   ]
  },
  {
   "cell_type": "code",
   "execution_count": 30,
   "metadata": {
    "slideshow": {
     "slide_type": "skip"
    }
   },
   "outputs": [
    {
     "data": {
      "text/plain": [
       "Plots.PyPlotBackend()"
      ]
     },
     "execution_count": 30,
     "metadata": {},
     "output_type": "execute_result"
    }
   ],
   "source": [
    "using Plots\n",
    "pyplot()"
   ]
  },
  {
   "cell_type": "code",
   "execution_count": 31,
   "metadata": {
    "slideshow": {
     "slide_type": "subslide"
    }
   },
   "outputs": [
    {
     "name": "stderr",
     "output_type": "stream",
     "text": [
      "\u001b[1m\u001b[36mINFO: \u001b[39m\u001b[22m\u001b[36mSaved animation to /home/abel/projetos/abel/apresentacoes/2018-06-27-jump-dev/tmp.gif\n",
      "\u001b[39m"
     ]
    },
    {
     "data": {
      "text/html": [
       "<img src=\"tmp.gif?0.7798022711336916>\" />"
      ],
      "text/plain": [
       "Plots.AnimatedGif(\"/home/abel/projetos/abel/apresentacoes/2018-06-27-jump-dev/tmp.gif\")"
      ]
     },
     "execution_count": 31,
     "metadata": {},
     "output_type": "execute_result"
    }
   ],
   "source": [
    "Bx = [2 1; 1 8]\n",
    "b, t = Bx * ones(2), linspace(0, 1, 100)\n",
    "q(x,y) = dot([x;y], 0.5 * Bx * [x;y] - b)\n",
    "@gif for Δ = 0.3 + 1.3 * abs.(1 - 2 * t)\n",
    "    contour(2 * t - 0.5, 2 * t - 0.5, q, aspect_ratio=:equal, leg=false)\n",
    "    x = cg(Bx, b, radius=Δ)[1]\n",
    "    scatter!([x[1]], [x[2]], ms=3, c=:black)\n",
    "    plot!(Δ * cos.(2π * t), Δ * sin.(2π * t), c=:green, l=:dash)\n",
    "    xlims!(-0.5, 1.5); ylims!(-0.5, 1.5)\n",
    "end"
   ]
  },
  {
   "cell_type": "markdown",
   "metadata": {
    "slideshow": {
     "slide_type": "slide"
    }
   },
   "source": [
    "## LBFGS Operator + Krylov"
   ]
  },
  {
   "cell_type": "code",
   "execution_count": 32,
   "metadata": {
    "slideshow": {
     "slide_type": "fragment"
    }
   },
   "outputs": [
    {
     "data": {
      "text/plain": [
       "2-element Array{Float64,1}:\n",
       " 2.22045e-16\n",
       " 0.0        "
      ]
     },
     "execution_count": 32,
     "metadata": {},
     "output_type": "execute_result"
    }
   ],
   "source": [
    "# Create BFGS operator\n",
    "Bx = LBFGSOperator(2, scaling=false)\n",
    "Hx = InverseLBFGSOperator(2, scaling=false)\n",
    "\n",
    "# Update\n",
    "s = [1.0; 2.0]\n",
    "y = [0.5; 4.0]\n",
    "push!(Bx, s, y)\n",
    "push!(Hx, s, y)\n",
    "\n",
    "# Use as matrix\n",
    "v = ones(2)\n",
    "cg(Bx, v)[1] - Hx * v"
   ]
  },
  {
   "cell_type": "markdown",
   "metadata": {
    "slideshow": {
     "slide_type": "slide"
    }
   },
   "source": [
    "# Optimize.jl\n",
    "\n",
    "Inside Optimize.jl, we have tools for line search and trust region.\n",
    "They can be seen used on the methods `lbfgs`, `trunk` and `tron`.\n",
    "The package is under a lot of change ATM."
   ]
  },
  {
   "cell_type": "code",
   "execution_count": 33,
   "metadata": {
    "scrolled": false,
    "slideshow": {
     "slide_type": "fragment"
    }
   },
   "outputs": [
    {
     "name": "stdout",
     "output_type": "stream",
     "text": [
      "Problem    |        f(x)      Σf      status |        f(x)      Σf      status\n",
      "AKIVA      |       ERROR       -           -\n",
      " |       ERROR       -           -\n",
      "\n",
      "BEALE      |       ERROR       -           -\n",
      " |       ERROR       -           -\n",
      "\n",
      "BOXBODLS   |       ERROR       -           -\n",
      " |       ERROR       -           -\n",
      "\n",
      "BRKMCC     |       ERROR       -           -\n",
      " |       ERROR       -           -\n",
      "\n",
      "BROWNBS    |       ERROR       -           -\n",
      " |       ERROR       -           -\n",
      "\n",
      "CLIFF      |       ERROR       -           -\n",
      " |       ERROR       -           -\n",
      "\n",
      "CUBE       |       ERROR       -           -\n",
      " |       ERROR       -           -\n",
      "\n",
      "DANWOODLS  |       ERROR       -           -\n",
      " |       ERROR       -           -\n",
      "\n",
      "DENSCHNA   |       ERROR       -           -\n",
      " |       ERROR       -           -\n",
      "\n",
      "DENSCHNB   |       ERROR       -           -\n",
      " |       ERROR       -           -\n",
      "\n",
      "DENSCHNC   |       ERROR       -           -\n",
      " |       ERROR       -           -\n",
      "\n",
      "DENSCHNF   |       ERROR       -           -\n",
      " |       ERROR       -           -\n",
      "\n",
      "DJTL       |       ERROR       -           -\n",
      " |       ERROR       -           -\n",
      "\n",
      "EXPFIT     |       ERROR       -           -\n",
      " |       ERROR       -           -\n",
      "\n",
      "GBRAINLS   |       ERROR       -           -\n",
      " |       ERROR       -           -\n",
      "\n",
      "HAIRY      |       ERROR       -           -\n",
      " |       ERROR       -           -\n",
      "\n",
      "HILBERTA   |       ERROR       -           -\n",
      " |       ERROR       -           -\n",
      "\n",
      "HIMMELBB   |       ERROR       -           -\n",
      " |       ERROR       -           -\n",
      "\n",
      "HIMMELBG   |       ERROR       -           -\n",
      " |       ERROR       -           -\n",
      "\n",
      "HIMMELBH   |       ERROR       -           -\n",
      " |       ERROR       -           -\n",
      "\n",
      "HUMPS      |       ERROR       -           -\n",
      " |       ERROR       -           -\n",
      "\n",
      "JENSMP     |       ERROR       -           -\n",
      " |       ERROR       -           -\n",
      "\n",
      "LOGHAIRY   |       ERROR       -           -\n",
      " |       ERROR       -           -\n",
      "\n",
      "MARATOSB   |       ERROR       -           -\n",
      " |       ERROR       -           -\n",
      "\n",
      "MEXHAT     |       ERROR       -           -\n",
      " |       ERROR       -           -\n",
      "\n",
      "MISRA1ALS  |       ERROR       -           -\n",
      " |       ERROR       -           -\n",
      "\n",
      "MISRA1BLS  |       ERROR       -           -\n",
      " |       ERROR       -           -\n",
      "\n",
      "MISRA1CLS  |       ERROR       -           -\n",
      " |       ERROR       -           -\n",
      "\n",
      "MISRA1DLS  |       ERROR       -           -\n",
      " |       ERROR       -           -\n",
      "\n",
      "POWELLBSLS |       ERROR       -           -\n",
      " |       ERROR       -           -\n",
      "\n",
      "ROSENBR    |       ERROR       -           -\n",
      " |       ERROR       -           -\n",
      "\n",
      "S308       |       ERROR       -           -\n",
      " |       ERROR       -           -\n",
      "\n",
      "SINEVAL    |       ERROR       -           -\n",
      " |       ERROR       -           -\n",
      "\n",
      "SISSER     |       ERROR       -           -\n",
      " |       ERROR       -           -\n",
      "\n",
      "SNAIL      |       ERROR       -           -\n",
      " |       ERROR       -           -\n",
      "\n",
      "ZANGWIL2   |       ERROR       -           -\n",
      " |       ERROR       -           -\n",
      "\n"
     ]
    }
   ],
   "source": [
    "using Optimize\n",
    "\n",
    "problems = CUTEst.select(only_free_var=true, max_var=2, max_con=0)\n",
    "sort!(problems)\n",
    "@printf(\"%-10s | %11s  %6s  %10s | %11s  %6s  %10s\\n\",\n",
    "        \"Problem\", \"f(x)\", \"Σf\", \"status\", \"f(x)\", \"Σf\", \"status\")\n",
    "mtds = [lbfgs, trunk]\n",
    "for p in problems\n",
    "    nlp = CUTEstModel(p)\n",
    "    @printf(\"%-10s\", p)\n",
    "    for mtd in mtds\n",
    "        try\n",
    "            reset!(nlp)\n",
    "            x, fx, ngx, iter, optimal, tired, status = mtd(nlp)\n",
    "            @printf(\" | %+10.4e  %6d  %10s\", fx, sum_counters(nlp), status)\n",
    "        catch ex\n",
    "            @printf(\" | %11s  %6s  %10s\\n\", \"ERROR\", \"-\", \"-\")\n",
    "        end\n",
    "    end\n",
    "    println(\"\")\n",
    "    finalize(nlp)\n",
    "end"
   ]
  },
  {
   "cell_type": "code",
   "execution_count": 34,
   "metadata": {
    "slideshow": {
     "slide_type": "subslide"
    }
   },
   "outputs": [],
   "source": [
    "problems = CUTEst.select(only_free_var=true, max_var=2, max_con=0)\n",
    "sort!(problems)\n",
    "mtds = [lbfgs, trunk]\n",
    "np, nm = length(problems), length(mtds)\n",
    "P = fill(-1, np, nm)\n",
    "for (i,p) in enumerate(problems)\n",
    "    nlp = CUTEstModel(p)\n",
    "    for (j,mtd) in enumerate(mtds)\n",
    "        try\n",
    "            reset!(nlp)\n",
    "            stats = mtd(nlp, max_f=1000)\n",
    "            if stats.status == :first_order\n",
    "                P[i,j] = sum_counters(nlp)\n",
    "            end\n",
    "        end\n",
    "    end\n",
    "    finalize(nlp)\n",
    "end"
   ]
  },
  {
   "cell_type": "code",
   "execution_count": 35,
   "metadata": {
    "slideshow": {
     "slide_type": "subslide"
    }
   },
   "outputs": [
    {
     "name": "stderr",
     "output_type": "stream",
     "text": [
      "WARNING: Method definition bmark_and_profile(Any...) in module Optimize at /home/abel/.julia/v0.6/Optimize/src/bmark/bmark_solvers.jl:33 overwritten at /home/abel/.julia/v0.6/Optimize/src/bmark/bmark_solvers.jl:106.\n",
      "WARNING: Method definition #bmark_and_profile(Array{Any, 1}, typeof(Optimize.bmark_and_profile), Any...) in module Optimize overwritten.\n"
     ]
    },
    {
     "data": {
      "image/png": "[encoded data removed]"
     },
     "execution_count": 35,
     "metadata": {},
     "output_type": "execute_result"
    }
   ],
   "source": [
    "using BenchmarkProfiles\n",
    "\n",
    "performance_profile(P, string.(mtds))"
   ]
  },
  {
   "cell_type": "code",
   "execution_count": 36,
   "metadata": {
    "slideshow": {
     "slide_type": "skip"
    }
   },
   "outputs": [
    {
     "data": {
      "image/png": "[encoded data removed]"
     },
     "execution_count": 36,
     "metadata": {},
     "output_type": "execute_result"
    }
   ],
   "source": [
    "stats, p = Optimize.bmark_and_profile(\n",
    "                Dict{Symbol,Function}(:LBFGS => lbfgs, :Trunk => trunk),\n",
    "                (CUTEstModel(p) for p in problems))\n",
    "[stats[:LBFGS] stats[:Trunk]]\n",
    "p"
   ]
  },
  {
   "cell_type": "markdown",
   "metadata": {
    "slideshow": {
     "slide_type": "slide"
    }
   },
   "source": [
    "# Thank you"
   ]
  },
  {
   "cell_type": "markdown",
   "metadata": {
    "slideshow": {
     "slide_type": "slide"
    }
   },
   "source": [
    "## Example solver\n",
    "\n",
    "$$ \\min\\ f(x) \\qquad \\text{s. to} \\qquad c(x) = 0. $$"
   ]
  },
  {
   "cell_type": "markdown",
   "metadata": {
    "slideshow": {
     "slide_type": "fragment"
    }
   },
   "source": [
    "Solve for $d_x$\n",
    "$$ \\left[\\begin{array}{cc}\n",
    "B_k & A_k^T \\\\ A_k & 0\n",
    "\\end{array}\\right]\n",
    "\\left[\\begin{array}{c}\n",
    "d_x \\\\ d_{\\lambda}\n",
    "\\end{array}\\right]\n",
    "=\n",
    "- \\left[\\begin{array}{c}\n",
    "g_k + A_k^T\\lambda_k \\\\ c_k\n",
    "\\end{array}\\right]$$"
   ]
  },
  {
   "cell_type": "markdown",
   "metadata": {
    "slideshow": {
     "slide_type": "fragment"
    }
   },
   "source": [
    "Line search on merit function $\\varphi(x;\\mu) = f(x) + \\mu \\Vert c(x)\\Vert_1$\n",
    "$$ \\varphi(x + td_x; \\mu) < \\varphi(x; \\mu) + \\alpha t D\\phi(x, d_x, \\mu). $$"
   ]
  },
  {
   "cell_type": "code",
   "execution_count": 37,
   "metadata": {
    "slideshow": {
     "slide_type": "slide"
    }
   },
   "outputs": [
    {
     "data": {
      "text/plain": [
       "sqp (generic function with 1 method)"
      ]
     },
     "execution_count": 37,
     "metadata": {},
     "output_type": "execute_result"
    }
   ],
   "source": [
    "using Krylov\n",
    "\n",
    "function sqp(nlp :: AbstractNLPModel; atol = 1e-4, rtol = 1e-6, ctol = 1e-6,\n",
    "             max_iter = 10_000, max_f = 10_000, max_time = 60.0)\n",
    "    if !equality_constrained(nlp)\n",
    "        error(\"This solver is for equality constrained problems\")\n",
    "    elseif has_bounds(nlp)\n",
    "        error(\"Can't handle bounds\")\n",
    "    end\n",
    "\n",
    "    n, m = nlp.meta.nvar, nlp.meta.ncon\n",
    "    \n",
    "    x = nlp.meta.x0\n",
    "\n",
    "    fx = obj(nlp, x)\n",
    "    cx = cons(nlp, x)\n",
    "    normcx = norm(cx, 1)\n",
    "\n",
    "    ∇fx = grad(nlp, x)\n",
    "    Jx = jac(nlp, x)\n",
    "\n",
    "    λ = cgls(Jx', -∇fx)[1]\n",
    "    ∇ℓx = ∇fx + Jx'*λ\n",
    "    norm∇ℓx = norm(∇ℓx)\n",
    "    \n",
    "    Hxλ = hess(nlp, x, y=λ) + 1e-12 * speye(n, n)\n",
    "    \n",
    "    xt = copy(x)\n",
    "    ct = copy(cx)\n",
    "    \n",
    "    Δ = max(0.1, min(100.0, 10norm∇ℓx))\n",
    "    μ = 1.0\n",
    "    \n",
    "    iter = 0\n",
    "    ϵ = atol + rtol * norm∇ℓx\n",
    "    t₀ = time()\n",
    "    Δt = 0.0\n",
    "    \n",
    "    solved = norm∇ℓx < ϵ && normcx < ctol\n",
    "    tired = iter > max_iter || sum_counters(nlp) > max_f || Δt > max_time\n",
    "\n",
    "    status = :unknown\n",
    "    while !(solved || tired)\n",
    "        W = Symmetric([Hxλ spzeros(n, m); Jx -1e-12*speye(m)], :L)\n",
    "        F = ldltfact(Symmetric(W, :L))\n",
    "        d = F \\ [-∇ℓx; -cx]\n",
    "        dx = d[1:n]\n",
    "        dλ = d[n+1:end]\n",
    "        \n",
    "        gᵀd = dot(dx, ∇fx)\n",
    "        if normcx > 0.0 && μ <= gᵀd / normcx\n",
    "            μ = gᵀd / normcx + 1\n",
    "        end\n",
    "        ϕx = fx + μ * normcx # f(x) + μ ‖c(x)‖₁\n",
    "        Dϕ = gᵀd - μ * normcx\n",
    "        \n",
    "        t = 1.0\n",
    "        xt .= x + t * dx\n",
    "        ft = obj(nlp, xt)\n",
    "        ct .= cons(nlp, xt)\n",
    "        normct = norm(ct, 1)\n",
    "        ϕt = ft + μ * normct\n",
    "        while !(ϕt < ϕx + 1e-2 * t * Dϕ)\n",
    "            t /= 2.0\n",
    "            if t < 1e-12\n",
    "                status = :short_step\n",
    "                break\n",
    "            end\n",
    "            xt .= x + t * dx\n",
    "            ft = obj(nlp, xt)\n",
    "            ct .= cons(nlp, xt)\n",
    "            normct = norm(ct, 1)\n",
    "            ϕt = ft + μ * normct\n",
    "        end\n",
    "        status != :unknown && break\n",
    "        \n",
    "        x .= xt\n",
    "        fx = ft\n",
    "        cx .= ct\n",
    "        normcx = normct\n",
    "        \n",
    "        ∇fx = grad(nlp, x)\n",
    "        Jx = jac(nlp, x)\n",
    "\n",
    "        λ = cgls(Jx', -∇fx)[1]\n",
    "        ∇ℓx = ∇fx + Jx'*λ\n",
    "        norm∇ℓx = norm(∇ℓx)\n",
    "\n",
    "        Hxλ = hess(nlp, x, y=λ) + 1e-12 * speye(n, n)\n",
    "        \n",
    "        iter += 1\n",
    "        Δt = time() - t₀\n",
    "        solved = norm∇ℓx < ϵ && normcx < ctol\n",
    "        tired = iter > max_iter || sum_counters(nlp) > max_f || Δt > max_time\n",
    "    end\n",
    "    \n",
    "    if solved\n",
    "        status = :first_order\n",
    "    elseif tired\n",
    "        if iter > max_iter\n",
    "            status = :max_iter\n",
    "        elseif Δt > max_time\n",
    "            status = :max_time\n",
    "        else\n",
    "            status = :max_evals\n",
    "        end\n",
    "    end\n",
    "\n",
    "    return x, fx, norm∇ℓx, normcx, Δt, status\n",
    "end"
   ]
  },
  {
   "cell_type": "code",
   "execution_count": 38,
   "metadata": {
    "slideshow": {
     "slide_type": "subslide"
    }
   },
   "outputs": [
    {
     "data": {
      "text/plain": [
       "([0.618796, 0.381204], 0.14560701802827003, 3.3635988397083165e-6, 3.1086244689504383e-15, 0.4375600814819336, :first_order)"
      ]
     },
     "execution_count": 38,
     "metadata": {},
     "output_type": "execute_result"
    }
   ],
   "source": [
    "model = Model()\n",
    "@variable(model, x[1:2], start=0.0)\n",
    "@NLobjective(model, Min, (x[1] - 1.0)^2 + 100 * (x[2] - x[1]^2)^2)\n",
    "@NLconstraint(model, x[1] + x[2] == 1.0)\n",
    "nlp = MathProgNLPModel(model)\n",
    "sqp(nlp)"
   ]
  },
  {
   "cell_type": "code",
   "execution_count": 39,
   "metadata": {
    "slideshow": {
     "slide_type": "fragment"
    }
   },
   "outputs": [
    {
     "data": {
      "text/plain": [
       "ipopt (generic function with 1 method)"
      ]
     },
     "execution_count": 39,
     "metadata": {},
     "output_type": "execute_result"
    }
   ],
   "source": [
    "using Ipopt\n",
    "\n",
    "function ipopt(nlp :: AbstractNLPModel; kwargs...)\n",
    "    model = NLPtoMPB(nlp, IpoptSolver(print_level=0))\n",
    "    Δt = time()\n",
    "    MathProgBase.optimize!(model)\n",
    "    x = MathProgBase.getsolution(model)\n",
    "    λ = MathProgBase.getconstrduals(model)\n",
    "    gx = grad(nlp, x)\n",
    "    dual = norm(gx + jtprod(nlp, x, λ))\n",
    "    cx = cons(nlp, x)\n",
    "    b = nlp.meta.lcon\n",
    "    primal = norm(cx - b, 1)\n",
    "    \n",
    "    Δt = time() - Δt\n",
    "    status = MathProgBase.status(model)\n",
    "\n",
    "    return x, obj(nlp, x), dual, primal, Δt, status\n",
    "end"
   ]
  },
  {
   "cell_type": "code",
   "execution_count": 40,
   "metadata": {
    "slideshow": {
     "slide_type": "subslide"
    }
   },
   "outputs": [
    {
     "data": {
      "text/plain": [
       "([0.618796, 0.381204], 0.1456070180282598, 0.96372276821365, 0.0, 0.07450294494628906, :Optimal)"
      ]
     },
     "execution_count": 40,
     "metadata": {},
     "output_type": "execute_result"
    }
   ],
   "source": [
    "ipopt(nlp)"
   ]
  },
  {
   "cell_type": "code",
   "execution_count": 41,
   "metadata": {
    "slideshow": {
     "slide_type": "fragment"
    }
   },
   "outputs": [
    {
     "name": "stdout",
     "output_type": "stream",
     "text": [
      "Problem |            f(x)       Δt           status |            f(x)       Δt          status\n",
      "HS26    |  3.10249816e-12    0.001      first_order |  1.84236926e-16    0.015          Optimal\n",
      "HS27    |  3.99999991e-02    0.001      first_order |  4.00000000e-02    0.001          Optimal\n",
      "HS28    |  3.08148791e-33    0.000      first_order |  3.08148791e-33    0.000          Optimal\n",
      "HS39    | -1.00000000e+00    0.001      first_order | -1.00000000e+00    0.000          Optimal\n",
      "HS40    | -2.50000000e-01    0.000      first_order | -2.50000000e-01    0.000          Optimal\n",
      "HS42    |  1.38578644e+01    0.000      first_order |  1.38578644e+01    0.000          Optimal\n",
      "HS46    |  9.39073377e-12    0.001      first_order |  5.58198553e-16    0.002          Optimal\n",
      "HS47    |  1.15600712e-10    0.001      first_order |  2.83015870e-14    0.001          Optimal\n",
      "HS48    |  1.23259516e-32    0.000      first_order |  1.23259516e-32    0.001          Optimal\n",
      "HS49    |  4.57324604e-06    0.001      first_order |  2.09381950e-12    0.003          Optimal\n",
      "HS50    |  6.38372406e-13    0.000      first_order |  1.23259516e-32    0.001          Optimal\n",
      "HS51    |  2.20218478e-23    0.000      first_order |  2.20218478e-23    0.000          Optimal\n",
      "HS52    |  5.32664756e+00    0.000      first_order |  5.32664756e+00    0.001          Optimal\n",
      "HS56    | -9.99999954e-01    0.000       short_step | -3.45600000e+00    0.003          Optimal\n",
      "HS6     |  5.53749011e+00    0.003       short_step |  0.00000000e+00    0.002          Optimal\n",
      "HS61    |  3.18353464e+01    0.012        max_evals | -8.19190961e+01    0.003          Optimal\n",
      "HS7     |  1.78439317e+00    0.014      first_order |  1.78439317e+00    0.000          Optimal\n",
      "HS77    |  2.41505096e-01    0.000      first_order |  2.41505128e-01    0.001          Optimal\n",
      "HS78    | -2.91970041e+00    0.000      first_order | -2.91970041e+00    0.001          Optimal\n",
      "HS79    |  7.87768211e-02    0.000      first_order |  7.87768211e-02    0.000          Optimal\n",
      "HS8     | -1.00000000e+00    0.000      first_order | -1.00000000e+00    0.000          Optimal\n",
      "HS9     | -5.00000000e-01    0.000      first_order | -5.00000000e-01    0.001          Optimal\n"
     ]
    }
   ],
   "source": [
    "problems = filter(x->contains(x, \"HS\") && length(x) <= 5,\n",
    "            CUTEst.select(only_free_var=true, only_equ_con=true))\n",
    "sort!(problems)\n",
    "@printf(\"%-7s | %15s  %7s  %15s | %15s  %7s %15s\\n\",\n",
    "        \"Problem\", \"f(x)\", \"Δt\", \"status\", \"f(x)\", \"Δt\", \"status\")\n",
    "mtds = [sqp, ipopt]\n",
    "for p in problems\n",
    "    nlp = CUTEstModel(p)\n",
    "    @printf(\"%-7s\", p)\n",
    "    for mtd in mtds\n",
    "        try\n",
    "            x, fx, nlx, ncx, Δt, status = mtd(nlp)\n",
    "            @printf(\" | %15.8e  %7.3f  %15s\", fx, Δt, status)\n",
    "        catch ex\n",
    "            @printf(\" | %15s  %7s  %15s\\n\", \"-\", \"-\", ex.msg)\n",
    "        end\n",
    "    end\n",
    "    println(\"\")\n",
    "    finalize(nlp)\n",
    "end"
   ]
  }
 ],
 "metadata": {
  "celltoolbar": "Slideshow",
  "kernelspec": {
   "display_name": "Julia 0.6.3",
   "language": "julia",
   "name": "julia-0.6"
  },
  "language_info": {
   "file_extension": ".jl",
   "mimetype": "application/julia",
   "name": "julia",
   "version": "0.6.3"
  }
 },
 "nbformat": 4,
 "nbformat_minor": 2
}
