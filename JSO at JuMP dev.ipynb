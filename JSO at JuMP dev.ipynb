{
 "cells": [
  {
   "cell_type": "markdown",
   "metadata": {
    "slideshow": {
     "slide_type": "slide"
    }
   },
   "source": [
    "<h1> JuliaSmoothOptimizers <img src=\"jsologo-alpha-1000-1000.png\" style=\"width: 300px; display: inline\"/> </h1>\n",
    "\n",
    "<p>\n",
    "Abel Soares Siqueira - Federal University of Paraná, Brazil\n",
    "</p>\n",
    "<p>\n",
    "Dominique Orban - GERAD/Polytechnique Montreal, Canada\n",
    "</p>"
   ]
  },
  {
   "cell_type": "markdown",
   "metadata": {
    "slideshow": {
     "slide_type": "subslide"
    }
   },
   "source": [
    "- Tools for developers/researchers/academics\n",
    "- Used by ourselves\n",
    "- Integrates with MPB/JuMP\n",
    "- We also develop solvers, focusing on large-scale\n",
    "- Similar work has also been done in [PythonOptimizers](https://github.com/PythonOptimizers)"
   ]
  },
  {
   "cell_type": "markdown",
   "metadata": {
    "slideshow": {
     "slide_type": "fragment"
    }
   },
   "source": [
    "<img src=\"jso.png\" alt=\"Drawing\" style=\"width: 600px;\"/>"
   ]
  },
  {
   "cell_type": "markdown",
   "metadata": {
    "slideshow": {
     "slide_type": "slide"
    }
   },
   "source": [
    "# NLPModels\n",
    "\n",
    "Defines nonlinear programming types and unified API to access them."
   ]
  },
  {
   "cell_type": "code",
   "execution_count": 1,
   "metadata": {
    "slideshow": {
     "slide_type": "fragment"
    }
   },
   "outputs": [
    {
     "name": "stderr",
     "output_type": "stream",
     "text": [
      "WARNING: using DataStructures.reset! in module CUTEst conflicts with an existing identifier.\n",
      "WARNING: using DataStructures.cons in module CUTEst conflicts with an existing identifier.\n"
     ]
    }
   ],
   "source": [
    "using NLPModels, CUTEst, JuMP\n",
    "\n",
    "# Short\n",
    "adnlp = ADNLPModel(x->(x[1] - 1)^2 + 100 * (x[2] - x[1]^2)^2, [-1.2; 1.0])\n",
    "\n",
    "# ROSENBR from the CUTEst list of problem\n",
    "ctnlp = CUTEstModel(\"ROSENBR\")\n",
    "\n",
    "# using JuMP -> sparse Hessian\n",
    "m = Model()\n",
    "@variable(m, x[1:2])\n",
    "setvalue(x, [-1.2; 1.0])\n",
    "@NLobjective(m, Min, (x[1] - 1)^2 + 100 * (x[2] - x[1]^2)^2)\n",
    "mpnlp = MathProgNLPModel(m);"
   ]
  },
  {
   "cell_type": "code",
   "execution_count": 2,
   "metadata": {
    "slideshow": {
     "slide_type": "subslide"
    }
   },
   "outputs": [
    {
     "name": "stdout",
     "output_type": "stream",
     "text": [
      "Autodiff\n",
      "fx = 24.199999999999996\n",
      "gx = [-215.6, -88.0]\n",
      "Hx = [1330.0 0.0; 480.0 200.0]\n",
      "\n",
      "CUTEst\n",
      "fx = 24.199999999999996\n",
      "gx = [-215.6, -88.0]\n",
      "Hx = \n",
      "  [1, 1]  =  1330.0\n",
      "  [2, 1]  =  480.0\n",
      "  [2, 2]  =  200.0\n",
      "\n",
      "JuMP\n",
      "fx = 24.199999999999996\n",
      "gx = [-215.6, -88.0]\n",
      "Hx = \n",
      "  [1, 1]  =  1330.0\n",
      "  [2, 1]  =  480.0\n",
      "  [2, 2]  =  200.0\n",
      "\n"
     ]
    }
   ],
   "source": [
    "# Unified API\n",
    "for (name, nlp) in [(\"Autodiff\", adnlp), (\"CUTEst\", ctnlp), (\"JuMP\", mpnlp)]\n",
    "    x = nlp.meta.x0\n",
    "    println(\"$name\")\n",
    "    println(\"fx = $(obj(nlp, x))\")\n",
    "    println(\"gx = $(grad(nlp, x))\")\n",
    "    println(\"Hx = $(hess(nlp, x))\")\n",
    "    println(\"\")\n",
    "end\n",
    "finalize(ctnlp)"
   ]
  },
  {
   "cell_type": "code",
   "execution_count": 3,
   "metadata": {
    "slideshow": {
     "slide_type": "subslide"
    }
   },
   "outputs": [
    {
     "name": "stdout",
     "output_type": "stream",
     "text": [
      "\n",
      "******************************************************************************\n",
      "This program contains Ipopt, a library for large-scale nonlinear optimization.\n",
      " Ipopt is released as open source code under the Eclipse Public License (EPL).\n",
      "         For more information visit http://projects.coin-or.org/Ipopt\n",
      "******************************************************************************\n",
      "\n",
      "#f = 45\n",
      "#g = 23\n",
      "#H = 22\n",
      "#Hp = 0\n",
      "Σf = 90\n"
     ]
    }
   ],
   "source": [
    "using Ipopt\n",
    "\n",
    "nlp = CUTEstModel(\"ROSENBR\")\n",
    "model = NLPtoMPB(nlp, IpoptSolver(print_level=0))\n",
    "MathProgBase.optimize!(model)\n",
    "finalize(nlp)\n",
    "println(\"#f = $(neval_obj(nlp))\")\n",
    "println(\"#g = $(neval_grad(nlp))\")\n",
    "println(\"#H = $(neval_hess(nlp))\")\n",
    "println(\"#Hp = $(neval_hprod(nlp))\")\n",
    "println(\"Σf = $(sum_counters(nlp))\")"
   ]
  },
  {
   "cell_type": "markdown",
   "metadata": {
    "slideshow": {
     "slide_type": "slide"
    }
   },
   "source": [
    "#### General Formulation\n",
    "\n",
    "\\begin{align*}\n",
    "  \\min & \\quad f(x) \\\\\n",
    "  \\text{s. to} & \\quad c_{\\ell} \\leq c(x) \\leq c_u \\\\\n",
    "  & \\quad \\ell \\leq x \\leq u.\n",
    "\\end{align*}"
   ]
  },
  {
   "cell_type": "code",
   "execution_count": 4,
   "metadata": {
    "slideshow": {
     "slide_type": "fragment"
    }
   },
   "outputs": [
    {
     "data": {
      "text/plain": [
       "([1], Int64[], [2], Int64[], Int64[])"
      ]
     },
     "execution_count": 4,
     "metadata": {},
     "output_type": "execute_result"
    }
   ],
   "source": [
    "nlp = ADNLPModel(x->sum(x.^4), [1.0; 2.0; 3.0; 4.0],\n",
    "                lvar=[-1; -Inf; 0; 0], uvar=[1; 0; Inf; 0],\n",
    "                c=x->[sum(x); prod(x)], lcon=[1.0; 1.0], ucon=[1.0; Inf])\n",
    "\n",
    "meta = nlp.meta\n",
    "x = meta.x0\n",
    "ℓ, u = meta.lvar, meta.uvar\n",
    "cℓ, cu = meta.lcon, meta.ucon\n",
    "vartypes = meta.ifix, meta.ifree, meta.ilow, meta.iupp, meta.irng\n",
    "contypes = meta.jfix, meta.jfree, meta.jlow, meta.jupp, meta.jrng"
   ]
  },
  {
   "cell_type": "code",
   "execution_count": 5,
   "metadata": {
    "slideshow": {
     "slide_type": "subslide"
    }
   },
   "outputs": [
    {
     "data": {
      "text/plain": [
       "2-element Array{Float64,1}:\n",
       " 10.0\n",
       " 24.0"
      ]
     },
     "execution_count": 5,
     "metadata": {},
     "output_type": "execute_result"
    }
   ],
   "source": [
    "cons(nlp, x) # c(x)"
   ]
  },
  {
   "cell_type": "code",
   "execution_count": 6,
   "metadata": {
    "slideshow": {
     "slide_type": "fragment"
    }
   },
   "outputs": [
    {
     "data": {
      "text/plain": [
       "2×4 Array{Float64,2}:\n",
       "  1.0   1.0  1.0  1.0\n",
       " 24.0  12.0  8.0  6.0"
      ]
     },
     "execution_count": 6,
     "metadata": {},
     "output_type": "execute_result"
    }
   ],
   "source": [
    "jac(nlp, x) # J(x)"
   ]
  },
  {
   "cell_type": "code",
   "execution_count": 7,
   "metadata": {
    "slideshow": {
     "slide_type": "fragment"
    }
   },
   "outputs": [
    {
     "data": {
      "text/plain": [
       "2-element Array{Float64,1}:\n",
       "  4.0\n",
       " 50.0"
      ]
     },
     "execution_count": 7,
     "metadata": {},
     "output_type": "execute_result"
    }
   ],
   "source": [
    "n, m = meta.nvar, meta.ncon\n",
    "v = ones(n)\n",
    "jprod(nlp, x, v) # J(x) * v"
   ]
  },
  {
   "cell_type": "code",
   "execution_count": 8,
   "metadata": {
    "slideshow": {
     "slide_type": "fragment"
    }
   },
   "outputs": [
    {
     "data": {
      "text/plain": [
       "4-element Array{Float64,1}:\n",
       " 25.0\n",
       " 13.0\n",
       "  9.0\n",
       "  7.0"
      ]
     },
     "execution_count": 8,
     "metadata": {},
     "output_type": "execute_result"
    }
   ],
   "source": [
    "w = ones(m)\n",
    "jtprod(nlp, x, w) # J(x)' * v"
   ]
  },
  {
   "cell_type": "markdown",
   "metadata": {
    "slideshow": {
     "slide_type": "subslide"
    }
   },
   "source": [
    "Some models handle sparsity (e.g. CUTEst and MathProgNLPModel)"
   ]
  },
  {
   "cell_type": "code",
   "execution_count": 9,
   "metadata": {
    "scrolled": true,
    "slideshow": {
     "slide_type": "fragment"
    }
   },
   "outputs": [
    {
     "data": {
      "text/plain": [
       "9×10 SparseMatrixCSC{Float64,Int64} with 18 stored entries:\n",
       "  [1 ,  1]  =  2.0\n",
       "  [1 ,  2]  =  -1.0\n",
       "  [2 ,  2]  =  2.0\n",
       "  [2 ,  3]  =  -1.0\n",
       "  [3 ,  3]  =  2.0\n",
       "  [3 ,  4]  =  -1.0\n",
       "  [4 ,  4]  =  2.0\n",
       "  [4 ,  5]  =  -1.0\n",
       "  [5 ,  5]  =  2.0\n",
       "  [5 ,  6]  =  -1.0\n",
       "  [6 ,  6]  =  2.0\n",
       "  [6 ,  7]  =  -1.0\n",
       "  [7 ,  7]  =  2.0\n",
       "  [7 ,  8]  =  -1.0\n",
       "  [8 ,  8]  =  2.0\n",
       "  [8 ,  9]  =  -1.0\n",
       "  [9 ,  9]  =  2.0\n",
       "  [9 , 10]  =  -1.0"
      ]
     },
     "execution_count": 9,
     "metadata": {},
     "output_type": "execute_result"
    }
   ],
   "source": [
    "model = Model()\n",
    "@variable(model, x[1:10], start=1.0)\n",
    "@NLobjective(model, Min, sum(x[i]^4 for i = 1:10))\n",
    "@NLconstraint(model, [i=1:9], x[i]^2 - x[i+1] == 1)\n",
    "nlp = MathProgNLPModel(model)\n",
    "\n",
    "x = nlp.meta.x0\n",
    "\n",
    "jac(nlp, x)"
   ]
  },
  {
   "cell_type": "markdown",
   "metadata": {
    "slideshow": {
     "slide_type": "slide"
    }
   },
   "source": [
    "## LinearOperators\n",
    "\n",
    "Factorization-free methods will never use the Jacobian explicitly. Instead, they use the Jacobian products `jprod` and `jtprod`.\n",
    "\n",
    "LinearOperators appear to work as matrices, but will use matrix-vector products internally."
   ]
  },
  {
   "cell_type": "code",
   "execution_count": 10,
   "metadata": {
    "slideshow": {
     "slide_type": "fragment"
    }
   },
   "outputs": [
    {
     "data": {
      "text/plain": [
       "Linear operator\n",
       "  nrow: 9\n",
       "  ncol: 10\n",
       "  eltype: Float64\n",
       "  symmetric: false\n",
       "  hermitian: false\n",
       "  prod:   #9\n",
       "  tprod:  #10\n",
       "  ctprod: #11\n"
      ]
     },
     "execution_count": 10,
     "metadata": {},
     "output_type": "execute_result"
    }
   ],
   "source": [
    "using LinearOperators\n",
    "\n",
    "T = LinearOperator{Float64}(9, 10,\n",
    "            false, false, # Symmetric? hermitian?\n",
    "            v->jprod(nlp, x, v),  # T * v    prod(v)\n",
    "            v->jtprod(nlp, x, v), # T.' * v  tprod(v)\n",
    "            v->jtprod(nlp, x, v)) # T' * v   ctprod(v)"
   ]
  },
  {
   "cell_type": "code",
   "execution_count": 11,
   "metadata": {
    "slideshow": {
     "slide_type": "subslide"
    }
   },
   "outputs": [
    {
     "data": {
      "text/plain": [
       "9-element Array{Float64,1}:\n",
       " 1.0\n",
       " 1.0\n",
       " 1.0\n",
       " 1.0\n",
       " 1.0\n",
       " 1.0\n",
       " 1.0\n",
       " 1.0\n",
       " 1.0"
      ]
     },
     "execution_count": 11,
     "metadata": {},
     "output_type": "execute_result"
    }
   ],
   "source": [
    "T * ones(10)"
   ]
  },
  {
   "cell_type": "code",
   "execution_count": 12,
   "metadata": {
    "slideshow": {
     "slide_type": "fragment"
    }
   },
   "outputs": [
    {
     "data": {
      "text/plain": [
       "10-element Array{Float64,1}:\n",
       "  2.0\n",
       "  1.0\n",
       "  1.0\n",
       "  1.0\n",
       "  1.0\n",
       "  1.0\n",
       "  1.0\n",
       "  1.0\n",
       "  1.0\n",
       " -1.0"
      ]
     },
     "execution_count": 12,
     "metadata": {},
     "output_type": "execute_result"
    }
   ],
   "source": [
    "T' * ones(9)"
   ]
  },
  {
   "cell_type": "markdown",
   "metadata": {
    "slideshow": {
     "slide_type": "subslide"
    }
   },
   "source": [
    "LinearOperators are lazy."
   ]
  },
  {
   "cell_type": "code",
   "execution_count": 13,
   "metadata": {
    "slideshow": {
     "slide_type": "fragment"
    }
   },
   "outputs": [
    {
     "data": {
      "text/plain": [
       "Linear operator\n",
       "  nrow: 10\n",
       "  ncol: 10\n",
       "  eltype: Float64\n",
       "  symmetric: false\n",
       "  hermitian: false\n",
       "  prod:   LinearOperators.#28\n",
       "  tprod:  LinearOperators.#29\n",
       "  ctprod: LinearOperators.#30\n"
      ]
     },
     "execution_count": 13,
     "metadata": {},
     "output_type": "execute_result"
    }
   ],
   "source": [
    "T' * T"
   ]
  },
  {
   "cell_type": "code",
   "execution_count": 14,
   "metadata": {
    "slideshow": {
     "slide_type": "fragment"
    }
   },
   "outputs": [
    {
     "data": {
      "text/plain": [
       "10-element Array{Float64,1}:\n",
       "  2.0\n",
       "  1.0\n",
       "  1.0\n",
       "  1.0\n",
       "  1.0\n",
       "  1.0\n",
       "  1.0\n",
       "  1.0\n",
       "  1.0\n",
       " -1.0"
      ]
     },
     "execution_count": 14,
     "metadata": {},
     "output_type": "execute_result"
    }
   ],
   "source": [
    "(T' * T) * ones(10)"
   ]
  },
  {
   "cell_type": "markdown",
   "metadata": {
    "slideshow": {
     "slide_type": "subslide"
    }
   },
   "source": [
    "Also, they're already implemented on NLPModels"
   ]
  },
  {
   "cell_type": "code",
   "execution_count": 15,
   "metadata": {
    "scrolled": true,
    "slideshow": {
     "slide_type": "fragment"
    }
   },
   "outputs": [
    {
     "data": {
      "text/plain": [
       "Linear operator\n",
       "  nrow: 9\n",
       "  ncol: 10\n",
       "  eltype: Float64\n",
       "  symmetric: false\n",
       "  hermitian: false\n",
       "  prod:   NLPModels.#71\n",
       "  tprod:  nothing\n",
       "  ctprod: NLPModels.#72\n"
      ]
     },
     "execution_count": 15,
     "metadata": {},
     "output_type": "execute_result"
    }
   ],
   "source": [
    "jac_op(nlp, x)"
   ]
  },
  {
   "cell_type": "code",
   "execution_count": 16,
   "metadata": {
    "slideshow": {
     "slide_type": "fragment"
    }
   },
   "outputs": [
    {
     "data": {
      "text/plain": [
       "Linear operator\n",
       "  nrow: 10\n",
       "  ncol: 10\n",
       "  eltype: Float64\n",
       "  symmetric: true\n",
       "  hermitian: true\n",
       "  prod:   NLPModels.#84\n",
       "  tprod:  nothing\n",
       "  ctprod: nothing\n"
      ]
     },
     "execution_count": 16,
     "metadata": {},
     "output_type": "execute_result"
    }
   ],
   "source": [
    "hess_op(nlp, x)"
   ]
  },
  {
   "cell_type": "markdown",
   "metadata": {
    "slideshow": {
     "slide_type": "slide"
    }
   },
   "source": [
    "## Krylov\n",
    "\n",
    "Krylov methods are iterative solvers for linear systems, least squares and least norm problems.\n",
    "It works with matrices and LinearOperators."
   ]
  },
  {
   "cell_type": "code",
   "execution_count": 17,
   "metadata": {
    "slideshow": {
     "slide_type": "fragment"
    }
   },
   "outputs": [
    {
     "data": {
      "text/plain": [
       "([1.0, 1.0, 1.0, 1.0, 1.0], \n",
       "Simple stats\n",
       "  solved: true\n",
       "  inconsistent: false\n",
       "  residuals:  [  1.7e+01  1.3e-01  6.7e-02  2.5e-02  2.2e-04  3.5e-07 ]\n",
       "  Aresiduals: [ ]\n",
       "  status: solution good enough given atol and rtol\n",
       ")"
      ]
     },
     "execution_count": 17,
     "metadata": {},
     "output_type": "execute_result"
    }
   ],
   "source": [
    "using Krylov\n",
    "\n",
    "A = rand(5, 5)\n",
    "A = A * A'\n",
    "b = A * ones(5)\n",
    "cg(A, b)"
   ]
  },
  {
   "cell_type": "markdown",
   "metadata": {
    "slideshow": {
     "slide_type": "subslide"
    }
   },
   "source": [
    "$$ \\min_{\\lambda} \\frac{1}{2}\\Vert \\nabla f(x) - J(x)^T\\lambda\\Vert. $$"
   ]
  },
  {
   "cell_type": "code",
   "execution_count": 18,
   "metadata": {
    "slideshow": {
     "slide_type": "fragment"
    }
   },
   "outputs": [
    {
     "data": {
      "text/plain": [
       "9-element Array{Float64,1}:\n",
       " 1.99415\n",
       " 2.98537\n",
       " 3.46927\n",
       " 3.6878 \n",
       " 3.75024\n",
       " 3.6878 \n",
       " 3.46927\n",
       " 2.98537\n",
       " 1.99415"
      ]
     },
     "execution_count": 18,
     "metadata": {},
     "output_type": "execute_result"
    }
   ],
   "source": [
    "x = nlp.meta.x0\n",
    "g = grad(nlp, x)\n",
    "J = jac_op(nlp, x)\n",
    "λ = cgls(J', g)[1]"
   ]
  },
  {
   "cell_type": "code",
   "execution_count": 19,
   "metadata": {
    "slideshow": {
     "slide_type": "subslide"
    }
   },
   "outputs": [
    {
     "data": {
      "text/plain": [
       "4-element Array{Float64,1}:\n",
       " 0.0173415\n",
       " 0.0173415\n",
       " 0.0173415\n",
       " 0.0173415"
      ]
     },
     "execution_count": 19,
     "metadata": {},
     "output_type": "execute_result"
    }
   ],
   "source": [
    "nlp = ADNLPModel(x->sum(x.^4), ones(4))\n",
    "\n",
    "x = nlp.meta.x0\n",
    "gx = grad(nlp, x)\n",
    "while norm(gx) > 1e-4\n",
    "    Hx = hess_op(nlp, x)\n",
    "    d = cg(Hx, -gx)[1]\n",
    "    x += d\n",
    "    gx = grad(nlp, x)\n",
    "end\n",
    "x"
   ]
  },
  {
   "cell_type": "code",
   "execution_count": 21,
   "metadata": {
    "slideshow": {
     "slide_type": "skip"
    }
   },
   "outputs": [
    {
     "data": {
      "text/plain": [
       "Plots.PyPlotBackend()"
      ]
     },
     "execution_count": 21,
     "metadata": {},
     "output_type": "execute_result"
    }
   ],
   "source": [
    "using Plots\n",
    "pyplot()"
   ]
  },
  {
   "cell_type": "code",
   "execution_count": 33,
   "metadata": {
    "slideshow": {
     "slide_type": "subslide"
    }
   },
   "outputs": [
    {
     "name": "stderr",
     "output_type": "stream",
     "text": [
      "\u001b[1m\u001b[36mINFO: \u001b[39m\u001b[22m\u001b[36mSaved animation to /home/abel/projetos/abel/apresentacoes/2018-27-06-jump-dev/tmp.gif\n",
      "\u001b[39m"
     ]
    },
    {
     "data": {
      "text/html": [
       "<img src=\"tmp.gif?0.23781034350075547>\" />"
      ],
      "text/plain": [
       "Plots.AnimatedGif(\"/home/abel/projetos/abel/apresentacoes/2018-27-06-jump-dev/tmp.gif\")"
      ]
     },
     "execution_count": 33,
     "metadata": {},
     "output_type": "execute_result"
    }
   ],
   "source": [
    "b, t = Bx * ones(2), linspace(0, 1, 100)\n",
    "q(x,y) = dot([x;y], 0.5 * Bx * [x;y] - b)\n",
    "@gif for Δ = 0.3 + 1.3 * abs.(1 - 2 * t)\n",
    "    contour(2 * t - 0.5, 2 * t - 0.5, q, aspect_ratio=:equal, leg=false)\n",
    "    x = cg(Bx, b, radius=Δ)[1]\n",
    "    scatter!([x[1]], [x[2]], ms=3, c=:black)\n",
    "    plot!(Δ * cos.(2π * t), Δ * sin.(2π * t), c=:green, l=:dash)\n",
    "    xlims!(-0.5, 1.5); ylims!(-0.5, 1.5)\n",
    "end"
   ]
  },
  {
   "cell_type": "markdown",
   "metadata": {
    "slideshow": {
     "slide_type": "slide"
    }
   },
   "source": [
    "## LBFGS Operator + Krylov"
   ]
  },
  {
   "cell_type": "code",
   "execution_count": 20,
   "metadata": {
    "slideshow": {
     "slide_type": "fragment"
    }
   },
   "outputs": [
    {
     "data": {
      "text/plain": [
       "2-element Array{Float64,1}:\n",
       " 2.22045e-16\n",
       " 0.0        "
      ]
     },
     "execution_count": 20,
     "metadata": {},
     "output_type": "execute_result"
    }
   ],
   "source": [
    "# Create BFGS operator\n",
    "Bx = LBFGSOperator(2, scaling=false)\n",
    "Hx = InverseLBFGSOperator(2, scaling=false)\n",
    "\n",
    "# Update\n",
    "s = [1.0; 2.0]\n",
    "y = [0.5; 4.0]\n",
    "push!(Bx, s, y)\n",
    "push!(Hx, s, y)\n",
    "\n",
    "# Use as matrix\n",
    "v = ones(2)\n",
    "cg(Bx, v)[1] - Hx * v"
   ]
  },
  {
   "cell_type": "markdown",
   "metadata": {
    "slideshow": {
     "slide_type": "slide"
    }
   },
   "source": [
    "# Optimize.jl\n",
    "\n",
    "Inside Optimize.jl, we have tools for line search and trust region.\n",
    "They can be seen used on the methods `lbfgs`, `trunk` and `tron`.\n",
    "The package is under a lot of change ATM."
   ]
  },
  {
   "cell_type": "code",
   "execution_count": 23,
   "metadata": {
    "scrolled": false,
    "slideshow": {
     "slide_type": "fragment"
    }
   },
   "outputs": [
    {
     "name": "stdout",
     "output_type": "stream",
     "text": [
      "Problem    |        f(x)      Σf |        f(x)      Σf\n",
      "AKIVA      |        NaN    1096 | +6.1660e+00      32\n",
      "BEALE      | +3.8636e-14      39 | +2.0816e-13      47\n",
      "BOXBODLS   | +9.7715e+03      11 | +1.1680e+03     115\n",
      "BRKMCC     | +1.6904e-01      21 | +1.6904e-01      16\n",
      "BROWNBS    | +7.7620e-16      30 | +0.0000e+00     173\n",
      "CLIFF      | +1.0556e+08      15 | +4.0316e+02      58\n",
      "CUBE       | +1.4583e-08      82 | +6.4331e-09     169\n",
      "DANWOODLS  | +4.3173e-03      78 | +4.3173e-03      47\n",
      "DENSCHNA   | +1.4096e-12      23 | +1.2000e-15      26\n",
      "DENSCHNB   | +4.7732e-12      18 | +4.5736e-23      31\n",
      "DENSCHNC   | +1.8336e-01      38 | +7.5912e-13      43\n",
      "DENSCHNF   | +4.2301e-10      31 | +2.3149e-10      27\n",
      "DJTL       | -7.9529e+03    1807 | -8.3878e+03    4486\n",
      "EXPFIT     | +2.4051e-01      39 | +2.4051e-01      74\n",
      "GBRAINLS   | +2.8516e+01      46 | +2.8516e+01      24\n",
      "HAIRY      | +2.0000e+01     104 | +2.0000e+01     331\n",
      "HILBERTA   | +3.2197e-17      12 | +2.0543e-33      19\n",
      "HIMMELBB   | +5.2196e-11      27 | +3.0300e-08      67\n",
      "HIMMELBG   | +4.8847e-17      20 | +1.5326e-14      27\n",
      "HIMMELBH   | -1.0000e+00      16 | -1.0000e+00      19\n",
      "HUMPS      | +1.7623e-09     512 | +1.5055e+02    2951\n",
      "JENSMP     | +2.0200e+03       4 | +1.2436e+02      38\n",
      "LOGHAIRY   | +1.8232e-01     155 | +6.0623e+00    2690\n",
      "MARATOSB   | +9.9589e-01      30 | +9.9589e-01      14\n",
      "MEXHAT     | +3.9845e-01      66 | -3.2320e-02      51\n",
      "MISRA1ALS  | +1.9516e+01      59 | +1.9516e+01      14\n",
      "MISRA1BLS  | +7.3175e+00      59 | +7.3175e+00      18\n",
      "MISRA1CLS  | +4.7451e+00      58 | +4.7451e+00      18\n",
      "MISRA1DLS  | +1.1071e+00      54 | +1.1071e+00      18\n",
      "POWELLBSLS | +1.0901e-10     376 | +6.7197e-03      33\n",
      "ROSENBR    | +1.8247e-13      95 | +5.1702e-08     136\n",
      "S308       | +7.7320e-01      25 | +7.7320e-01      44\n",
      "SINEVAL    | +9.2493e-14     183 | +7.3867e-36     329\n",
      "SISSER     | +3.3321e-08      25 | +1.1547e-08      56\n",
      "SNAIL      | +2.6715e-16      32 | +2.1188e-19     333\n",
      "ZANGWIL2   | -1.8200e+01       6 | -1.8200e+01      10\n"
     ]
    }
   ],
   "source": [
    "using Optimize\n",
    "\n",
    "problems = CUTEst.select(only_free_var=true, max_var=2, max_con=0)\n",
    "sort!(problems)\n",
    "@printf(\"%-10s | %11s  %6s | %11s  %6s\\n\",\n",
    "        \"Problem\", \"f(x)\", \"Σf\", \"f(x)\", \"Σf\")\n",
    "mtds = [lbfgs, trunk]\n",
    "for p in problems\n",
    "    nlp = CUTEstModel(p)\n",
    "    @printf(\"%-10s\", p)\n",
    "    for mtd in mtds\n",
    "        try\n",
    "            reset!(nlp)\n",
    "            x, fx, ngx, iter, optimal, tired, status = mtd(nlp, max_f=1000)\n",
    "            @printf(\" | %+10.4e  %6d\", fx, sum_counters(nlp))\n",
    "        catch ex\n",
    "            @printf(\" | %11s  %6s\\n\", \"ERROR\", \"-\")\n",
    "        end\n",
    "    end\n",
    "    println(\"\")\n",
    "    finalize(nlp)\n",
    "end"
   ]
  },
  {
   "cell_type": "code",
   "execution_count": 24,
   "metadata": {
    "slideshow": {
     "slide_type": "subslide"
    }
   },
   "outputs": [],
   "source": [
    "problems = CUTEst.select(only_free_var=true, max_var=2, max_con=0)\n",
    "sort!(problems)\n",
    "mtds = [lbfgs, trunk]\n",
    "np, nm = length(problems), length(mtds)\n",
    "P = fill(Inf, np, nm)\n",
    "for (i,p) in enumerate(problems)\n",
    "    nlp = CUTEstModel(p)\n",
    "    for (j,mtd) in enumerate(mtds)\n",
    "        try\n",
    "            reset!(nlp)\n",
    "            x, fx, ngx, iter, optimal, tired, status = mtd(nlp, max_f=1000)\n",
    "            if status == \"first-order stationary\"\n",
    "                P[i,j] = sum_counters(nlp)\n",
    "            end\n",
    "        end\n",
    "    end\n",
    "    finalize(nlp)\n",
    "end"
   ]
  },
  {
   "cell_type": "code",
   "execution_count": 25,
   "metadata": {
    "slideshow": {
     "slide_type": "subslide"
    }
   },
   "outputs": [
    {
     "name": "stderr",
     "output_type": "stream",
     "text": [
      "WARNING: Method definition bmark_and_profile(Any...) in module Optimize at /home/abel/.julia/v0.6/Optimize/src/bmark/bmark_solvers.jl:29 overwritten at /home/abel/.julia/v0.6/Optimize/src/bmark/bmark_solvers.jl:76.\n",
      "WARNING: Method definition #bmark_and_profile(Array{Any, 1}, typeof(Optimize.bmark_and_profile), Any...) in module Optimize overwritten.\n"
     ]
    },
    {
     "data": {
      "image/png": "[encoded data removed]"
     },
     "execution_count": 25,
     "metadata": {},
     "output_type": "execute_result"
    }
   ],
   "source": [
    "using BenchmarkProfiles\n",
    "\n",
    "performance_profile(P, string.(mtds))"
   ]
  },
  {
   "cell_type": "markdown",
   "metadata": {
    "slideshow": {
     "slide_type": "slide"
    }
   },
   "source": [
    "# Thank you"
   ]
  },
  {
   "cell_type": "markdown",
   "metadata": {
    "slideshow": {
     "slide_type": "slide"
    }
   },
   "source": [
    "## Example solver\n",
    "\n",
    "$$ \\min\\ f(x) \\qquad \\text{s. to} \\qquad c(x) = 0. $$"
   ]
  },
  {
   "cell_type": "markdown",
   "metadata": {
    "slideshow": {
     "slide_type": "fragment"
    }
   },
   "source": [
    "Solve for $d_x$\n",
    "$$ \\left[\\begin{array}{cc}\n",
    "B_k & A_k^T \\\\ A_k & 0\n",
    "\\end{array}\\right]\n",
    "\\left[\\begin{array}{c}\n",
    "d_x \\\\ d_{\\lambda}\n",
    "\\end{array}\\right]\n",
    "=\n",
    "- \\left[\\begin{array}{c}\n",
    "g_k + A_k^T\\lambda_k \\\\ c_k\n",
    "\\end{array}\\right]$$"
   ]
  },
  {
   "cell_type": "markdown",
   "metadata": {
    "slideshow": {
     "slide_type": "fragment"
    }
   },
   "source": [
    "Line search on merit function $\\varphi(x;\\mu) = f(x) + \\mu \\Vert c(x)\\Vert_1$\n",
    "$$ \\varphi(x + td_x; \\mu) < \\varphi(x; \\mu) + \\alpha t D\\phi(x, d_x, \\mu). $$"
   ]
  },
  {
   "cell_type": "code",
   "execution_count": 26,
   "metadata": {
    "slideshow": {
     "slide_type": "slide"
    }
   },
   "outputs": [
    {
     "data": {
      "text/plain": [
       "sqp (generic function with 1 method)"
      ]
     },
     "execution_count": 26,
     "metadata": {},
     "output_type": "execute_result"
    }
   ],
   "source": [
    "using Krylov\n",
    "\n",
    "function sqp(nlp :: AbstractNLPModel; atol = 1e-4, rtol = 1e-6, ctol = 1e-6,\n",
    "             max_iter = 10_000, max_f = 10_000, max_time = 60.0)\n",
    "    if !equality_constrained(nlp)\n",
    "        error(\"This solver is for equality constrained problems\")\n",
    "    elseif has_bounds(nlp)\n",
    "        error(\"Can't handle bounds\")\n",
    "    end\n",
    "\n",
    "    n, m = nlp.meta.nvar, nlp.meta.ncon\n",
    "    \n",
    "    x = nlp.meta.x0\n",
    "\n",
    "    fx = obj(nlp, x)\n",
    "    cx = cons(nlp, x)\n",
    "    normcx = norm(cx, 1)\n",
    "\n",
    "    ∇fx = grad(nlp, x)\n",
    "    Jx = jac(nlp, x)\n",
    "\n",
    "    λ = cgls(Jx', -∇fx)[1]\n",
    "    ∇ℓx = ∇fx + Jx'*λ\n",
    "    norm∇ℓx = norm(∇ℓx)\n",
    "    \n",
    "    Hxλ = hess(nlp, x, y=λ) + 1e-12 * speye(n, n)\n",
    "    \n",
    "    xt = copy(x)\n",
    "    ct = copy(cx)\n",
    "    \n",
    "    Δ = max(0.1, min(100.0, 10norm∇ℓx))\n",
    "    μ = 1.0\n",
    "    \n",
    "    iter = 0\n",
    "    ϵ = atol + rtol * norm∇ℓx\n",
    "    t₀ = time()\n",
    "    Δt = 0.0\n",
    "    \n",
    "    solved = norm∇ℓx < ϵ && normcx < ctol\n",
    "    tired = iter > max_iter || sum_counters(nlp) > max_f || Δt > max_time\n",
    "\n",
    "    status = :unknown\n",
    "    while !(solved || tired)\n",
    "        W = Symmetric([Hxλ spzeros(n, m); Jx -1e-12*speye(m)], :L)\n",
    "        F = ldltfact(Symmetric(W, :L))\n",
    "        d = F \\ [-∇ℓx; -cx]\n",
    "        dx = d[1:n]\n",
    "        dλ = d[n+1:end]\n",
    "        \n",
    "        gᵀd = dot(dx, ∇fx)\n",
    "        if normcx > 0.0 && μ <= gᵀd / normcx\n",
    "            μ = gᵀd / normcx + 1\n",
    "        end\n",
    "        ϕx = fx + μ * normcx # f(x) + μ ‖c(x)‖₁\n",
    "        Dϕ = gᵀd - μ * normcx\n",
    "        \n",
    "        t = 1.0\n",
    "        xt .= x + t * dx\n",
    "        ft = obj(nlp, xt)\n",
    "        ct .= cons(nlp, xt)\n",
    "        normct = norm(ct, 1)\n",
    "        ϕt = ft + μ * normct\n",
    "        while !(ϕt < ϕx + 1e-2 * t * Dϕ)\n",
    "            t /= 2.0\n",
    "            if t < 1e-12\n",
    "                status = :short_step\n",
    "                break\n",
    "            end\n",
    "            xt .= x + t * dx\n",
    "            ft = obj(nlp, xt)\n",
    "            ct .= cons(nlp, xt)\n",
    "            normct = norm(ct, 1)\n",
    "            ϕt = ft + μ * normct\n",
    "        end\n",
    "        status != :unknown && break\n",
    "        \n",
    "        x .= xt\n",
    "        fx = ft\n",
    "        cx .= ct\n",
    "        normcx = normct\n",
    "        \n",
    "        ∇fx = grad(nlp, x)\n",
    "        Jx = jac(nlp, x)\n",
    "\n",
    "        λ = cgls(Jx', -∇fx)[1]\n",
    "        ∇ℓx = ∇fx + Jx'*λ\n",
    "        norm∇ℓx = norm(∇ℓx)\n",
    "\n",
    "        Hxλ = hess(nlp, x, y=λ) + 1e-12 * speye(n, n)\n",
    "        \n",
    "        iter += 1\n",
    "        Δt = time() - t₀\n",
    "        solved = norm∇ℓx < ϵ && normcx < ctol\n",
    "        tired = iter > max_iter || sum_counters(nlp) > max_f || Δt > max_time\n",
    "    end\n",
    "    \n",
    "    if solved\n",
    "        status = :first_order\n",
    "    elseif tired\n",
    "        if iter > max_iter\n",
    "            status = :max_iter\n",
    "        elseif Δt > max_time\n",
    "            status = :max_time\n",
    "        else\n",
    "            status = :max_evals\n",
    "        end\n",
    "    end\n",
    "\n",
    "    return x, fx, norm∇ℓx, normcx, Δt, status\n",
    "end"
   ]
  },
  {
   "cell_type": "code",
   "execution_count": 27,
   "metadata": {
    "slideshow": {
     "slide_type": "subslide"
    }
   },
   "outputs": [
    {
     "data": {
      "text/plain": [
       "([0.618796, 0.381204], 0.14560701802827003, 3.3635988397083165e-6, 3.1086244689504383e-15, 0.49768805503845215, :first_order)"
      ]
     },
     "execution_count": 27,
     "metadata": {},
     "output_type": "execute_result"
    }
   ],
   "source": [
    "model = Model()\n",
    "@variable(model, x[1:2], start=0.0)\n",
    "@NLobjective(model, Min, (x[1] - 1.0)^2 + 100 * (x[2] - x[1]^2)^2)\n",
    "@NLconstraint(model, x[1] + x[2] == 1.0)\n",
    "nlp = MathProgNLPModel(model)\n",
    "sqp(nlp)"
   ]
  },
  {
   "cell_type": "code",
   "execution_count": 28,
   "metadata": {
    "slideshow": {
     "slide_type": "fragment"
    }
   },
   "outputs": [
    {
     "data": {
      "text/plain": [
       "ipopt (generic function with 1 method)"
      ]
     },
     "execution_count": 28,
     "metadata": {},
     "output_type": "execute_result"
    }
   ],
   "source": [
    "using Ipopt\n",
    "\n",
    "function ipopt(nlp :: AbstractNLPModel; kwargs...)\n",
    "    model = NLPtoMPB(nlp, IpoptSolver(print_level=0))\n",
    "    Δt = time()\n",
    "    MathProgBase.optimize!(model)\n",
    "    x = MathProgBase.getsolution(model)\n",
    "    λ = MathProgBase.getconstrduals(model)\n",
    "    gx = grad(nlp, x)\n",
    "    dual = norm(gx + jtprod(nlp, x, λ))\n",
    "    cx = cons(nlp, x)\n",
    "    b = nlp.meta.lcon\n",
    "    primal = norm(cx - b, 1)\n",
    "    \n",
    "    Δt = time() - Δt\n",
    "    status = MathProgBase.status(model)\n",
    "\n",
    "    return x, obj(nlp, x), dual, primal, Δt, status\n",
    "end"
   ]
  },
  {
   "cell_type": "code",
   "execution_count": 29,
   "metadata": {
    "slideshow": {
     "slide_type": "subslide"
    }
   },
   "outputs": [
    {
     "data": {
      "text/plain": [
       "([0.618796, 0.381204], 0.1456070180282598, 0.96372276821365, 0.0, 0.07694506645202637, :Optimal)"
      ]
     },
     "execution_count": 29,
     "metadata": {},
     "output_type": "execute_result"
    }
   ],
   "source": [
    "ipopt(nlp)"
   ]
  },
  {
   "cell_type": "code",
   "execution_count": 30,
   "metadata": {
    "slideshow": {
     "slide_type": "fragment"
    }
   },
   "outputs": [
    {
     "name": "stdout",
     "output_type": "stream",
     "text": [
      "Problem |            f(x)       Δt           status |            f(x)       Δt          status\n",
      "HS26    |  3.10249816e-12    0.001      first_order |  1.84236926e-16    0.036          Optimal\n",
      "HS27    |  3.99999991e-02    0.001      first_order |  4.00000000e-02    0.001          Optimal\n",
      "HS28    |  3.08148791e-33    0.000      first_order |  3.08148791e-33    0.000          Optimal\n",
      "HS39    | -1.00000000e+00    0.001      first_order | -1.00000000e+00    0.000          Optimal\n",
      "HS40    | -2.50000000e-01    0.000      first_order | -2.50000000e-01    0.000          Optimal\n",
      "HS42    |  1.38578644e+01    0.000      first_order |  1.38578644e+01    0.000          Optimal\n",
      "HS46    |  9.39073377e-12    0.001      first_order |  5.58198553e-16    0.002          Optimal\n",
      "HS47    |  1.15830163e-10    0.001      first_order |  2.83573654e-14    0.001          Optimal\n",
      "HS48    |  1.23259516e-32    0.000      first_order |  1.23259516e-32    0.000          Optimal\n",
      "HS49    |  4.57324604e-06    0.000      first_order |  2.09381950e-12    0.002          Optimal\n",
      "HS50    |  6.38372406e-13    0.000      first_order |  1.23259516e-32    0.001          Optimal\n",
      "HS51    |  2.20218478e-23    0.011      first_order |  2.20218478e-23    0.000          Optimal\n",
      "HS52    |  5.32664756e+00    0.000      first_order |  5.32664756e+00    0.001          Optimal\n",
      "HS56    | -9.99999954e-01    0.000       short_step | -3.45600000e+00    0.003          Optimal\n",
      "HS6     |  5.53749011e+00    0.003       short_step |  0.00000000e+00    0.002          Optimal\n",
      "HS61    |  3.18353464e+01    0.011        max_evals | -8.19190961e+01    0.003          Optimal\n",
      "HS7     |  1.78439317e+00    0.001      first_order |  1.78439317e+00    0.000          Optimal\n",
      "HS77    |  2.41505096e-01    0.000      first_order |  2.41505128e-01    0.001          Optimal\n",
      "HS78    | -2.91970041e+00    0.000      first_order | -2.91970041e+00    0.001          Optimal\n",
      "HS79    |  7.87768211e-02    0.000      first_order |  7.87768211e-02    0.000          Optimal\n",
      "HS8     | -1.00000000e+00    0.000      first_order | -1.00000000e+00    0.000          Optimal\n",
      "HS9     | -5.00000000e-01    0.000      first_order | -5.00000000e-01    0.001          Optimal\n"
     ]
    }
   ],
   "source": [
    "problems = filter(x->contains(x, \"HS\") && length(x) <= 5,\n",
    "            CUTEst.select(only_free_var=true, only_equ_con=true))\n",
    "sort!(problems)\n",
    "@printf(\"%-7s | %15s  %7s  %15s | %15s  %7s %15s\\n\",\n",
    "        \"Problem\", \"f(x)\", \"Δt\", \"status\", \"f(x)\", \"Δt\", \"status\")\n",
    "mtds = [sqp, ipopt]\n",
    "for p in problems\n",
    "    nlp = CUTEstModel(p)\n",
    "    @printf(\"%-7s\", p)\n",
    "    for mtd in mtds\n",
    "        try\n",
    "            x, fx, nlx, ncx, Δt, status = mtd(nlp)\n",
    "            @printf(\" | %15.8e  %7.3f  %15s\", fx, Δt, status)\n",
    "        catch ex\n",
    "            @printf(\" | %15s  %7s  %15s\\n\", \"-\", \"-\", ex.msg)\n",
    "        end\n",
    "    end\n",
    "    println(\"\")\n",
    "    finalize(nlp)\n",
    "end"
   ]
  }
 ],
 "metadata": {
  "celltoolbar": "Slideshow",
  "kernelspec": {
   "display_name": "Julia 0.6.2",
   "language": "julia",
   "name": "julia-0.6"
  },
  "language_info": {
   "file_extension": ".jl",
   "mimetype": "application/julia",
   "name": "julia",
   "version": "0.6.2"
  }
 },
 "nbformat": 4,
 "nbformat_minor": 2
}
